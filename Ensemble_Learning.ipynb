{
  "nbformat": 4,
  "nbformat_minor": 0,
  "metadata": {
    "colab": {
      "provenance": []
    },
    "kernelspec": {
      "name": "python3",
      "display_name": "Python 3"
    },
    "language_info": {
      "name": "python"
    }
  },
  "cells": [
    {
      "cell_type": "markdown",
      "source": [
        "#**Ensemble Learning**"
      ],
      "metadata": {
        "id": "jjVe5pka7sYO"
      }
    },
    {
      "cell_type": "markdown",
      "source": [
        "#**Theoretical Questions Answers**"
      ],
      "metadata": {
        "id": "6l8NcEcc7xB3"
      }
    },
    {
      "cell_type": "markdown",
      "source": [
        "\n",
        "\n",
        "### **1. Can we use Bagging for regression problems?**  \n",
        "**Yes, we can use Bagging for regression.**  \n",
        "Bagging (Bootstrap Aggregating) works with both classification and regression problems.\n",
        "\n",
        "**Example:**  \n",
        "Suppose we want to predict house prices. If we use **Bagging Regressor** with multiple Decision Tree Regressors, each tree will predict a price, and the final output will be the **average of all predictions**.\n",
        "\n",
        "---\n",
        "\n",
        "### **2. What is the difference between multiple model training and single model training?**  \n",
        "- **Single model training:** We train just one model on the whole dataset.  \n",
        "- **Multiple model training (ensemble):** We train multiple models (like many Decision Trees) and combine their outputs.\n",
        "\n",
        "**Example:**  \n",
        "- Single model: One Decision Tree  \n",
        "- Multiple model: 10 Decision Trees combined using Bagging\n",
        "\n",
        "**Advantage:** Multiple models reduce overfitting and increase accuracy.\n",
        "\n",
        "---\n",
        "\n",
        "### **3. Explain the concept of feature randomness in Random Forest.**  \n",
        "Random Forest introduces randomness by selecting a **random subset of features** at each split in the tree. This reduces correlation among trees.\n",
        "\n",
        "**Example:**  \n",
        "If your data has 10 features, a Random Forest might choose only 3 features randomly at each split for each tree.\n",
        "\n",
        "This makes each tree different, improving diversity and model performance.\n",
        "\n",
        "---\n",
        "\n",
        "### **4. What is OOB (Out-of-Bag) Score?**  \n",
        "In Bagging, each model is trained on a random subset of data. The data not selected is called **Out-of-Bag (OOB)** samples.\n",
        "\n",
        "**OOB Score** is the accuracy or error calculated using these left-out samples, acting like a built-in cross-validation.\n",
        "\n",
        "**Example:**  \n",
        "If 30% of data is not used in training a tree, we can use that 30% to test that tree and get the OOB score.\n",
        "\n",
        "---\n",
        "\n",
        "### **5. How can you measure the importance of features in a Random Forest model?**  \n",
        "Random Forest calculates **feature importance** based on how much a feature helps in reducing impurity (like Gini or Entropy) across all trees.\n",
        "\n",
        "**Example:**  \n",
        "If the \"Age\" feature often helps to make better splits in decision trees, it will be considered more important.\n",
        "\n",
        "In code, you can check `model.feature_importances_` after training.\n",
        "\n",
        "---\n",
        "\n",
        "### **6. Explain the working principle of a Bagging Classifier.**  \n",
        "- Create multiple random samples from the training data using **bootstrap sampling**.  \n",
        "- Train a model (like Decision Tree) on each sample.  \n",
        "- For prediction, combine outputs using **majority vote** (for classification).\n",
        "\n",
        "**Example:**  \n",
        "Train 5 Decision Trees on different random samples. For a new input, if 3 trees say \"Yes\" and 2 say \"No\", the final output is \"Yes\".\n",
        "\n",
        "---\n",
        "\n",
        "### **7. How do you evaluate a Bagging Classifier’s performance?**  \n",
        "Use metrics like:  \n",
        "- **Accuracy** (for balanced classification)  \n",
        "- **Precision, Recall, F1-score** (for imbalanced classes)  \n",
        "- **Confusion Matrix**  \n",
        "You can also use **OOB score** if using bootstrap.\n",
        "\n",
        "**Example:**  \n",
        "If you predict cancer detection using Bagging Classifier, you can use F1-score to evaluate how well it balances false positives and false negatives.\n",
        "\n",
        "---\n",
        "\n",
        "### **8. How does a Bagging Regressor work?**  \n",
        "- Similar to Bagging Classifier but used for **regression tasks**.  \n",
        "- Each model (e.g., Decision Tree Regressor) predicts a value.  \n",
        "- Final prediction is the **average** of all model outputs.\n",
        "\n",
        "**Example:**  \n",
        "If 3 models predict house prices as 200k, 220k, and 210k, the final prediction is  \n",
        "**(200k + 220k + 210k) / 3 = 210k**\n",
        "\n",
        "---\n",
        "\n",
        "### **9. What is the main advantage of ensemble techniques?**  \n",
        "- **Higher accuracy**  \n",
        "- **Better generalization**  \n",
        "- **Reduced overfitting**\n",
        "\n",
        "They combine multiple weak models to build a **strong, stable model**.\n",
        "\n",
        "**Example:**  \n",
        "A single Decision Tree may overfit. But 50 trees in a Random Forest average out errors, giving better performance.\n",
        "\n",
        "---\n",
        "\n",
        "### **10. What is the main challenge of ensemble methods?**  \n",
        "- **Computational cost** (more models = more time)  \n",
        "- **Less interpretability** (harder to explain)  \n",
        "- **Memory usage** increases with many models\n",
        "\n",
        "**Example:**  \n",
        "A simple model like Logistic Regression is easy to understand. But an ensemble like Random Forest is harder to explain, and slower to train.\n",
        "\n",
        "---\n",
        "\n",
        "### **11. Explain the key idea behind ensemble techniques.**  \n",
        "**Ensemble = Group of models working together.**  \n",
        "Instead of using just one model, ensemble methods combine the output of several models to get better results.\n",
        "\n",
        "**Example:**  \n",
        "Imagine 5 doctors giving different diagnoses. If we take the majority opinion, the final decision is more reliable. Ensemble works the same way!\n",
        "\n",
        "---\n",
        "\n",
        "### **12. What is a Random Forest Classifier?**  \n",
        "Random Forest is an **ensemble of Decision Trees** used for classification tasks. It builds multiple trees on random data and features, and predicts by **majority vote**.\n",
        "\n",
        "**Example:**  \n",
        "If 3 trees say “Spam” and 2 say “Not Spam”, the final answer will be “Spam”.\n",
        "\n",
        "---\n",
        "\n",
        "### **13. What are the main types of ensemble techniques?**  \n",
        "There are mainly **three types**:\n",
        "\n",
        "1. **Bagging** – e.g., Random Forest  \n",
        "2. **Boosting** – e.g., XGBoost, AdaBoost  \n",
        "3. **Stacking** – combining different models and using another model to combine their outputs\n",
        "\n",
        "---\n",
        "\n",
        "### **14. What is ensemble learning in machine learning?**  \n",
        "Ensemble learning means **combining multiple models** to improve overall prediction performance and reduce errors.\n",
        "\n",
        "**Example:**  \n",
        "Instead of relying on one Decision Tree, we combine 50 trees using Random Forest for a stronger and more accurate model.\n",
        "\n",
        "---\n",
        "\n",
        "### **15. When should we avoid using ensemble methods?**  \n",
        "Avoid when:\n",
        "\n",
        "- Data is **very small**  \n",
        "- You need **explainable** results  \n",
        "- You're short on **time or resources**\n",
        "\n",
        "**Example:**  \n",
        "If you're building a quick mobile app and speed matters more than accuracy, a simple model is better.\n",
        "\n",
        "---\n",
        "\n",
        "### **16. How does Bagging help in reducing overfitting?**  \n",
        "Bagging creates many models on different data samples. This diversity reduces overfitting by **averaging out the noise** and variance.\n",
        "\n",
        "**Example:**  \n",
        "One Decision Tree might memorize the training data (overfitting), but 100 trees in Bagging will learn general patterns.\n",
        "\n",
        "---\n",
        "\n",
        "### **17. Why is Random Forest better than a single Decision Tree?**  \n",
        "Because it:\n",
        "\n",
        "- Reduces **overfitting**  \n",
        "- Increases **accuracy**  \n",
        "- Handles **missing data** better  \n",
        "- Is more **robust to noise**\n",
        "\n",
        "**Example:**  \n",
        "A single tree might misclassify a noisy input. But in Random Forest, most trees may still give the correct output.\n",
        "\n",
        "---\n",
        "\n",
        "### **18. What is the role of bootstrap sampling in Bagging?**  \n",
        "Bootstrap sampling = **Random sampling with replacement.**  \n",
        "Each model gets a **different subset** of data to train on, which increases **diversity** among models.\n",
        "\n",
        "**Example:**  \n",
        "If you have 100 samples, each tree in Bagging gets a different 100-sample dataset created by random resampling.\n",
        "\n",
        "---\n",
        "\n",
        "### **19. What are some real-world applications of ensemble techniques?**  \n",
        "\n",
        "- Email Spam Detection (Random Forest)  \n",
        "- Credit Risk Prediction (Boosting)  \n",
        "- Fraud Detection (Ensemble of Models)  \n",
        "- Disease Diagnosis (Stacking)  \n",
        "- Product Recommendation Systems\n",
        "\n",
        "---\n",
        "\n",
        "### **20. What is the difference between Bagging and Boosting?**\n",
        "\n",
        "| Feature     | Bagging                          | Boosting                          |\n",
        "|-------------|----------------------------------|------------------------------------|\n",
        "| Goal        | Reduce **variance**              | Reduce **bias and variance**       |\n",
        "| Model Type  | Models are trained **independently** | Models are trained **sequentially** |\n",
        "| Example     | Random Forest                    | AdaBoost, XGBoost                  |\n",
        "| Output      | Average/Vote                     | Weighted Combination               |\n",
        "\n",
        "**Example:**  \n",
        "- Bagging: 10 trees vote for final answer  \n",
        "- Boosting: Each new model corrects the previous one’s mistakes\n",
        "\n",
        "---"
      ],
      "metadata": {
        "id": "UczR5BuR71yb"
      }
    },
    {
      "cell_type": "markdown",
      "source": [
        "#**Practical Questions Answers**"
      ],
      "metadata": {
        "id": "txeL8APNQqua"
      }
    },
    {
      "cell_type": "code",
      "source": [
        "#Train a Bagging Classifier using Decision Trees on a sample dataset and print model accuracy.\n",
        "\n",
        "\n",
        "from sklearn.datasets import make_classification\n",
        "from sklearn.ensemble import BaggingClassifier\n",
        "from sklearn.tree import DecisionTreeClassifier\n",
        "from sklearn.model_selection import train_test_split\n",
        "from sklearn.metrics import accuracy_score\n",
        "\n",
        "# Sample classification data\n",
        "X, y = make_classification(n_samples=200, n_features=10, random_state=42)\n",
        "X_train, X_test, y_train, y_test = train_test_split(X, y, test_size=0.2, random_state=42)\n",
        "\n",
        "# Train Bagging Classifier\n",
        "model = BaggingClassifier(estimator=DecisionTreeClassifier(), n_estimators=10, random_state=42)\n",
        "model.fit(X_train, y_train)\n",
        "\n",
        "# Predict and evaluate\n",
        "y_pred = model.predict(X_test)\n",
        "print(\"Bagging Classifier Accuracy:\", accuracy_score(y_test, y_pred))"
      ],
      "metadata": {
        "colab": {
          "base_uri": "https://localhost:8080/"
        },
        "id": "NSvWAo2lAZC_",
        "outputId": "a3a842f4-0870-4503-f08e-58fab8313c6b"
      },
      "execution_count": null,
      "outputs": [
        {
          "output_type": "stream",
          "name": "stdout",
          "text": [
            "Bagging Classifier Accuracy: 0.9\n"
          ]
        }
      ]
    },
    {
      "cell_type": "code",
      "source": [
        "#Train a Bagging Regressor using Decision Trees and evaluate using Mean Squared Error (MSE).\n",
        "\n",
        "\n",
        "from sklearn.datasets import make_regression\n",
        "from sklearn.ensemble import BaggingRegressor\n",
        "from sklearn.tree import DecisionTreeRegressor\n",
        "from sklearn.metrics import mean_squared_error\n",
        "\n",
        "# Sample regression data\n",
        "X, y = make_regression(n_samples=200, n_features=5, noise=0.2, random_state=42)\n",
        "X_train, X_test, y_train, y_test = train_test_split(X, y, test_size=0.2, random_state=42)\n",
        "\n",
        "# Train Bagging Regressor\n",
        "model = BaggingRegressor(estimator=DecisionTreeRegressor(), n_estimators=10, random_state=42)\n",
        "model.fit(X_train, y_train)\n",
        "\n",
        "# Predict and evaluate\n",
        "y_pred = model.predict(X_test)\n",
        "print(\"Bagging Regressor Mean Squared Error:\", mean_squared_error(y_test, y_pred))"
      ],
      "metadata": {
        "colab": {
          "base_uri": "https://localhost:8080/"
        },
        "id": "7WOpAKpQAbtR",
        "outputId": "12184a29-e4a0-4473-ec22-a6e905c4356a"
      },
      "execution_count": null,
      "outputs": [
        {
          "output_type": "stream",
          "name": "stdout",
          "text": [
            "Bagging Regressor Mean Squared Error: 925.058776823949\n"
          ]
        }
      ]
    },
    {
      "cell_type": "code",
      "source": [
        "#Train a Random Forest Classifier on the Breast Cancer dataset and print feature importance scores.\n",
        "\n",
        "from sklearn.datasets import load_breast_cancer\n",
        "from sklearn.ensemble import RandomForestClassifier\n",
        "\n",
        "# Load data\n",
        "data = load_breast_cancer()\n",
        "X, y = data.data, data.target\n",
        "\n",
        "# Train Random Forest Classifier\n",
        "model = RandomForestClassifier(n_estimators=100, random_state=42)\n",
        "model.fit(X, y)\n",
        "\n",
        "# Feature importance\n",
        "importances = model.feature_importances_\n",
        "for name, importance in zip(data.feature_names, importances):\n",
        "    print(f\"{name}: {importance:.4f}\")"
      ],
      "metadata": {
        "colab": {
          "base_uri": "https://localhost:8080/"
        },
        "id": "17aLcab1Ad5s",
        "outputId": "acb98bcb-57e1-4c09-9346-3e6b5ec349ae"
      },
      "execution_count": null,
      "outputs": [
        {
          "output_type": "stream",
          "name": "stdout",
          "text": [
            "mean radius: 0.0348\n",
            "mean texture: 0.0152\n",
            "mean perimeter: 0.0680\n",
            "mean area: 0.0605\n",
            "mean smoothness: 0.0080\n",
            "mean compactness: 0.0116\n",
            "mean concavity: 0.0669\n",
            "mean concave points: 0.1070\n",
            "mean symmetry: 0.0034\n",
            "mean fractal dimension: 0.0026\n",
            "radius error: 0.0143\n",
            "texture error: 0.0037\n",
            "perimeter error: 0.0101\n",
            "area error: 0.0296\n",
            "smoothness error: 0.0047\n",
            "compactness error: 0.0056\n",
            "concavity error: 0.0058\n",
            "concave points error: 0.0038\n",
            "symmetry error: 0.0035\n",
            "fractal dimension error: 0.0059\n",
            "worst radius: 0.0828\n",
            "worst texture: 0.0175\n",
            "worst perimeter: 0.0808\n",
            "worst area: 0.1394\n",
            "worst smoothness: 0.0122\n",
            "worst compactness: 0.0199\n",
            "worst concavity: 0.0373\n",
            "worst concave points: 0.1322\n",
            "worst symmetry: 0.0082\n",
            "worst fractal dimension: 0.0045\n"
          ]
        }
      ]
    },
    {
      "cell_type": "code",
      "source": [
        "#Train a Random Forest Regressor and compare its performance with a single Decision Tree.\n",
        "\n",
        "from sklearn.ensemble import RandomForestRegressor\n",
        "from sklearn.tree import DecisionTreeRegressor\n",
        "\n",
        "# Sample regression data\n",
        "X, y = make_regression(n_samples=300, n_features=4, noise=0.3, random_state=42)\n",
        "X_train, X_test, y_train, y_test = train_test_split(X, y, test_size=0.3, random_state=42)\n",
        "\n",
        "# Decision Tree\n",
        "dt_model = DecisionTreeRegressor(random_state=42)\n",
        "dt_model.fit(X_train, y_train)\n",
        "dt_pred = dt_model.predict(X_test)\n",
        "\n",
        "# Random Forest\n",
        "rf_model = RandomForestRegressor(n_estimators=100, random_state=42)\n",
        "rf_model.fit(X_train, y_train)\n",
        "rf_pred = rf_model.predict(X_test)\n",
        "\n",
        "# Compare MSE\n",
        "print(\"Decision Tree MSE:\", mean_squared_error(y_test, dt_pred))\n",
        "print(\"Random Forest MSE:\", mean_squared_error(y_test, rf_pred))"
      ],
      "metadata": {
        "colab": {
          "base_uri": "https://localhost:8080/"
        },
        "id": "xvc_Q5wzAgIr",
        "outputId": "bef873c3-2f3b-438c-8648-785109d98b9d"
      },
      "execution_count": null,
      "outputs": [
        {
          "output_type": "stream",
          "name": "stdout",
          "text": [
            "Decision Tree MSE: 3404.437239483898\n",
            "Random Forest MSE: 2131.6700121353415\n"
          ]
        }
      ]
    },
    {
      "cell_type": "code",
      "source": [
        "#Compute the Out-of-Bag (OOB) Score for a Random Forest Classifier.\n",
        "\n",
        "\n",
        "from sklearn.datasets import load_breast_cancer\n",
        "from sklearn.ensemble import RandomForestClassifier\n",
        "\n",
        "# Load Breast Cancer dataset\n",
        "data = load_breast_cancer()\n",
        "X, y = data.data, data.target\n",
        "\n",
        "# Train Random Forest with OOB enabled\n",
        "rf_oob_model = RandomForestClassifier(\n",
        "    n_estimators=100,\n",
        "    oob_score=True,\n",
        "    bootstrap=True,         # Must be True for OOB to work\n",
        "    random_state=42\n",
        ")\n",
        "rf_oob_model.fit(X, y)\n",
        "\n",
        "# Print OOB Score\n",
        "print(\"Out-of-Bag (OOB) Score:\", rf_oob_model.oob_score_)"
      ],
      "metadata": {
        "colab": {
          "base_uri": "https://localhost:8080/"
        },
        "id": "F8MxOZCjAiVy",
        "outputId": "48e2f9d0-cae2-4dfe-cb2a-4eca2a73a8dd"
      },
      "execution_count": null,
      "outputs": [
        {
          "output_type": "stream",
          "name": "stdout",
          "text": [
            "Out-of-Bag (OOB) Score: 0.961335676625659\n"
          ]
        }
      ]
    },
    {
      "cell_type": "code",
      "source": [
        "#26. Train a Bagging Classifier using SVM as a base estimator and print accuracy.\n",
        "\n",
        "from sklearn.ensemble import BaggingClassifier\n",
        "from sklearn.svm import SVC\n",
        "from sklearn.datasets import make_classification\n",
        "from sklearn.model_selection import train_test_split\n",
        "from sklearn.metrics import accuracy_score\n",
        "\n",
        "# Create a classification dataset\n",
        "X, y = make_classification(n_samples=300, n_features=20, random_state=42)\n",
        "X_train, X_test, y_train, y_test = train_test_split(X, y, test_size=0.3)\n",
        "\n",
        "# Updated: Bagging Classifier using SVM\n",
        "model = BaggingClassifier(estimator=SVC(), n_estimators=10, random_state=42)\n",
        "model.fit(X_train, y_train)\n",
        "\n",
        "# Predict and evaluate\n",
        "y_pred = model.predict(X_test)\n",
        "print(\"Accuracy (Bagging with SVM):\", accuracy_score(y_test, y_pred))"
      ],
      "metadata": {
        "colab": {
          "base_uri": "https://localhost:8080/"
        },
        "id": "degjIc_ODswo",
        "outputId": "297767e8-fab2-4cf8-b1c9-d33eb02b049e"
      },
      "execution_count": null,
      "outputs": [
        {
          "output_type": "stream",
          "name": "stdout",
          "text": [
            "Accuracy (Bagging with SVM): 0.8888888888888888\n"
          ]
        }
      ]
    },
    {
      "cell_type": "code",
      "source": [
        "#27. Train a Random Forest Classifier with different numbers of trees and compare accuracy.\n",
        "\n",
        "from sklearn.ensemble import RandomForestClassifier\n",
        "\n",
        "# Try different number of trees\n",
        "for n in [10, 50, 100, 200]:\n",
        "    model = RandomForestClassifier(n_estimators=n, random_state=42)\n",
        "    model.fit(X_train, y_train)\n",
        "    y_pred = model.predict(X_test)\n",
        "    acc = accuracy_score(y_test, y_pred)\n",
        "    print(f\"Accuracy with {n} trees: {acc}\")"
      ],
      "metadata": {
        "colab": {
          "base_uri": "https://localhost:8080/"
        },
        "id": "VYE8mbxGDthS",
        "outputId": "69f2a779-32af-4846-81d0-20e08ae5f89a"
      },
      "execution_count": null,
      "outputs": [
        {
          "output_type": "stream",
          "name": "stdout",
          "text": [
            "Accuracy with 10 trees: 0.8666666666666667\n",
            "Accuracy with 50 trees: 0.9\n",
            "Accuracy with 100 trees: 0.8777777777777778\n",
            "Accuracy with 200 trees: 0.8777777777777778\n"
          ]
        }
      ]
    },
    {
      "cell_type": "code",
      "source": [
        "#28. Train a Bagging Classifier using Logistic Regression as a base estimator and print AUC score.\n",
        "\n",
        "from sklearn.ensemble import BaggingClassifier, RandomForestClassifier\n",
        "from sklearn.metrics import roc_auc_score\n",
        "\n",
        "# Create Bagging classifier using RandomForestClassifier as the base estimator\n",
        "rf_bag = BaggingClassifier(estimator=RandomForestClassifier(), n_estimators=10, random_state=42)\n",
        "\n",
        "# Fit the model\n",
        "rf_bag.fit(X_train, y_train)\n",
        "\n",
        "# Predict probabilities for AUC\n",
        "y_pred_prob = rf_bag.predict_proba(X_test)[:, 1]\n",
        "\n",
        "# Calculate and print AUC score\n",
        "auc_score = roc_auc_score(y_test, y_pred_prob)\n",
        "print(\"AUC Score:\", auc_score)"
      ],
      "metadata": {
        "colab": {
          "base_uri": "https://localhost:8080/"
        },
        "id": "1R4nyh8PDuG6",
        "outputId": "de1c80b9-34b6-40b7-9a86-b546831f21a1"
      },
      "execution_count": null,
      "outputs": [
        {
          "output_type": "stream",
          "name": "stdout",
          "text": [
            "AUC Score: 0.930161943319838\n"
          ]
        }
      ]
    },
    {
      "cell_type": "code",
      "source": [
        "#29. Train a Random Forest Regressor and analyze feature importance scores.\n",
        "\n",
        "from sklearn.datasets import make_regression\n",
        "from sklearn.ensemble import RandomForestRegressor\n",
        "\n",
        "# Regression dataset\n",
        "Xr, yr = make_regression(n_samples=300, n_features=10, noise=0.1, random_state=42)\n",
        "Xr_train, Xr_test, yr_train, yr_test = train_test_split(Xr, yr, test_size=0.3)\n",
        "\n",
        "# Random Forest Regressor\n",
        "rf_reg = RandomForestRegressor(n_estimators=100, random_state=42)\n",
        "rf_reg.fit(Xr_train, yr_train)\n",
        "\n",
        "# Feature importances\n",
        "importances = rf_reg.feature_importances_\n",
        "for i, imp in enumerate(importances):\n",
        "    print(f\"Feature {i+1}: Importance = {imp:.4f}\")"
      ],
      "metadata": {
        "colab": {
          "base_uri": "https://localhost:8080/"
        },
        "id": "jXr7N-0FDuiu",
        "outputId": "3fbb8575-1a6e-437b-9a46-13493c7203ee"
      },
      "execution_count": null,
      "outputs": [
        {
          "output_type": "stream",
          "name": "stdout",
          "text": [
            "Feature 1: Importance = 0.0746\n",
            "Feature 2: Importance = 0.0293\n",
            "Feature 3: Importance = 0.0437\n",
            "Feature 4: Importance = 0.0164\n",
            "Feature 5: Importance = 0.1183\n",
            "Feature 6: Importance = 0.0178\n",
            "Feature 7: Importance = 0.0184\n",
            "Feature 8: Importance = 0.2381\n",
            "Feature 9: Importance = 0.1330\n",
            "Feature 10: Importance = 0.3104\n"
          ]
        }
      ]
    },
    {
      "cell_type": "code",
      "source": [
        "\n",
        "#30. Train an ensemble model using both Bagging and Random Forest and compare accuracy.\n",
        "\n",
        "# Bagging Classifier\n",
        "bag_model = BaggingClassifier(n_estimators=50, random_state=42)\n",
        "bag_model.fit(X_train, y_train)\n",
        "bag_acc = accuracy_score(y_test, bag_model.predict(X_test))\n",
        "\n",
        "# Random Forest Classifier\n",
        "rf_model = RandomForestClassifier(n_estimators=50, random_state=42)\n",
        "rf_model.fit(X_train, y_train)\n",
        "rf_acc = accuracy_score(y_test, rf_model.predict(X_test))\n",
        "\n",
        "print(\"Bagging Classifier Accuracy:\", bag_acc)\n",
        "print(\"Random Forest Classifier Accuracy:\", rf_acc)"
      ],
      "metadata": {
        "colab": {
          "base_uri": "https://localhost:8080/"
        },
        "id": "5D12j7mHDvSL",
        "outputId": "38e33fb8-a6cb-4f8b-d71d-a32dacbb0214"
      },
      "execution_count": null,
      "outputs": [
        {
          "output_type": "stream",
          "name": "stdout",
          "text": [
            "Bagging Classifier Accuracy: 0.8888888888888888\n",
            "Random Forest Classifier Accuracy: 0.9\n"
          ]
        }
      ]
    },
    {
      "cell_type": "code",
      "source": [
        "#31. Train a Random Forest Classifier and tune hyperparameters using GridSearchCV.\n",
        "\n",
        "from sklearn.ensemble import RandomForestClassifier\n",
        "from sklearn.model_selection import GridSearchCV\n",
        "from sklearn.datasets import load_breast_cancer\n",
        "from sklearn.model_selection import train_test_split\n",
        "from sklearn.metrics import accuracy_score\n",
        "\n",
        "# Load data\n",
        "data = load_breast_cancer()\n",
        "X_train, X_test, y_train, y_test = train_test_split(data.data, data.target, random_state=42)\n",
        "\n",
        "# Hyperparameter grid\n",
        "param_grid = {\n",
        "    'n_estimators': [10, 50, 100],\n",
        "    'max_depth': [None, 5, 10],\n",
        "    'min_samples_split': [2, 5]\n",
        "}\n",
        "\n",
        "# GridSearch\n",
        "grid = GridSearchCV(RandomForestClassifier(random_state=42), param_grid, cv=3)\n",
        "grid.fit(X_train, y_train)\n",
        "\n",
        "print(\"Best Parameters:\", grid.best_params_)\n",
        "print(\"Accuracy:\", accuracy_score(y_test, grid.predict(X_test)))"
      ],
      "metadata": {
        "colab": {
          "base_uri": "https://localhost:8080/"
        },
        "id": "1W4r03SRDvwW",
        "outputId": "9f4f8e1b-bd73-4cc9-aa81-1036d7ec0f81"
      },
      "execution_count": null,
      "outputs": [
        {
          "output_type": "stream",
          "name": "stdout",
          "text": [
            "Best Parameters: {'max_depth': 5, 'min_samples_split': 5, 'n_estimators': 50}\n",
            "Accuracy: 0.972027972027972\n"
          ]
        }
      ]
    },
    {
      "cell_type": "code",
      "source": [
        "#32. Train a Bagging Regressor with different numbers of base estimators and compare performance.\n",
        "\n",
        "\n",
        "from sklearn.ensemble import BaggingRegressor\n",
        "from sklearn.datasets import load_diabetes\n",
        "from sklearn.metrics import mean_squared_error\n",
        "import matplotlib.pyplot as plt\n",
        "\n",
        "X, y = load_diabetes(return_X_y=True)\n",
        "X_train, X_test, y_train, y_test = train_test_split(X, y, random_state=42)\n",
        "\n",
        "estimators = [1, 5, 10, 20, 50]\n",
        "mse_scores = []\n",
        "\n",
        "for n in estimators:\n",
        "    model = BaggingRegressor(n_estimators=n, random_state=42)\n",
        "    model.fit(X_train, y_train)\n",
        "    preds = model.predict(X_test)\n",
        "    mse = mean_squared_error(y_test, preds)\n",
        "    mse_scores.append(mse)\n",
        "\n",
        "# Plotting\n",
        "plt.plot(estimators, mse_scores, marker='o')\n",
        "plt.xlabel(\"Number of Estimators\")\n",
        "plt.ylabel(\"MSE\")\n",
        "plt.title(\"Bagging Regressor Performance\")\n",
        "plt.grid()\n",
        "plt.show()"
      ],
      "metadata": {
        "colab": {
          "base_uri": "https://localhost:8080/",
          "height": 256
        },
        "id": "lsUFsmscDwOl",
        "outputId": "c3e882f5-cc87-4f5e-fbae-564db725dc85"
      },
      "execution_count": null,
      "outputs": [
        {
          "output_type": "display_data",
          "data": {
            "text/plain": [
              "<Figure size 640x480 with 1 Axes>"
            ],
            "image/png": "[encoded data removed]"
          },
          "metadata": {}
        }
      ]
    },
    {
      "cell_type": "code",
      "source": [
        "#33. Train a Random Forest Classifier and analyze misclassified samples.\n",
        "\n",
        "rf = RandomForestClassifier(random_state=42)\n",
        "rf.fit(X_train, y_train)\n",
        "y_pred = rf.predict(X_test)\n",
        "\n",
        "# Misclassified samples\n",
        "misclassified_indices = X_test[(y_pred != y_test)]\n",
        "print(\"Total Misclassified Samples:\", len(misclassified_indices))"
      ],
      "metadata": {
        "colab": {
          "base_uri": "https://localhost:8080/"
        },
        "id": "44HdRsAKDw3M",
        "outputId": "cf5511b1-b1e2-4677-ec2b-af6c4a3e1792"
      },
      "execution_count": null,
      "outputs": [
        {
          "output_type": "stream",
          "name": "stdout",
          "text": [
            "Total Misclassified Samples: 111\n"
          ]
        }
      ]
    },
    {
      "cell_type": "code",
      "source": [
        "#34. Train a Bagging Classifier and compare its performance with a single Decision Tree Classifier.\n",
        "\n",
        "from sklearn.tree import DecisionTreeClassifier\n",
        "from sklearn.ensemble import BaggingClassifier\n",
        "from sklearn.metrics import accuracy_score\n",
        "\n",
        "# Single Decision Tree\n",
        "dt = DecisionTreeClassifier(random_state=42)\n",
        "dt.fit(X_train, y_train)\n",
        "dt_acc = accuracy_score(y_test, dt.predict(X_test))\n",
        "\n",
        "# Bagging Classifier\n",
        "bag = BaggingClassifier(estimator=DecisionTreeClassifier(), n_estimators=10, random_state=42)\n",
        "bag.fit(X_train, y_train)\n",
        "bag_acc = accuracy_score(y_test, bag.predict(X_test))\n",
        "\n",
        "print(\"Decision Tree Accuracy:\", dt_acc)\n",
        "print(\"Bagging Classifier Accuracy:\", bag_acc)"
      ],
      "metadata": {
        "colab": {
          "base_uri": "https://localhost:8080/"
        },
        "id": "EOX5MzmUDxXh",
        "outputId": "8e88a77f-1fd7-4dc0-faac-508e2a9e9c6c"
      },
      "execution_count": null,
      "outputs": [
        {
          "output_type": "stream",
          "name": "stdout",
          "text": [
            "Decision Tree Accuracy: 0.009009009009009009\n",
            "Bagging Classifier Accuracy: 0.0\n"
          ]
        }
      ]
    },
    {
      "cell_type": "code",
      "source": [
        "#35. Train a Random Forest Classifier and visualize the confusion matrix.\n",
        "\n",
        "# Import necessary libraries\n",
        "from sklearn.ensemble import RandomForestClassifier\n",
        "from sklearn.model_selection import train_test_split\n",
        "from sklearn.metrics import confusion_matrix, ConfusionMatrixDisplay\n",
        "from sklearn.datasets import load_breast_cancer\n",
        "import matplotlib.pyplot as plt\n",
        "\n",
        "# Load sample dataset (you can replace with your own)\n",
        "data = load_breast_cancer()\n",
        "X = data.data\n",
        "y = data.target\n",
        "\n",
        "# Train-test split\n",
        "X_train, X_test, y_train, y_test = train_test_split(X, y, test_size=0.2, random_state=42)\n",
        "\n",
        "# Initialize and train Random Forest Classifier\n",
        "rf = RandomForestClassifier(n_estimators=100, random_state=42)\n",
        "rf.fit(X_train, y_train)\n",
        "\n",
        "# Predict on test data\n",
        "y_pred = rf.predict(X_test)\n",
        "\n",
        "# Create and display confusion matrix\n",
        "cm = confusion_matrix(y_test, y_pred)\n",
        "disp = ConfusionMatrixDisplay(confusion_matrix=cm, display_labels=rf.classes_)\n",
        "disp.plot(cmap=plt.cm.Blues)\n",
        "plt.title(\"Confusion Matrix for Random Forest Classifier\")\n",
        "plt.show()"
      ],
      "metadata": {
        "colab": {
          "base_uri": "https://localhost:8080/",
          "height": 295
        },
        "id": "-kxvfDsJDxzy",
        "outputId": "e934b12b-d06e-44f2-e62c-e0213336e55e"
      },
      "execution_count": null,
      "outputs": [
        {
          "output_type": "display_data",
          "data": {
            "text/plain": [
              "<Figure size 640x480 with 2 Axes>"
            ],
            "image/png": "[encoded data removed]"
          },
          "metadata": {}
        }
      ]
    },
    {
      "cell_type": "code",
      "source": [
        "#36. Train a Stacking Classifier using Decision Trees, SVM, and Logistic Regression, and compare accuracy.\n",
        "# Import libraries\n",
        "from sklearn.ensemble import StackingClassifier\n",
        "from sklearn.tree import DecisionTreeClassifier\n",
        "from sklearn.svm import SVC\n",
        "from sklearn.linear_model import LogisticRegression\n",
        "from sklearn.datasets import load_breast_cancer\n",
        "from sklearn.model_selection import train_test_split\n",
        "from sklearn.metrics import accuracy_score\n",
        "\n",
        "# Load dataset\n",
        "data = load_breast_cancer()\n",
        "X = data.data\n",
        "y = data.target\n",
        "\n",
        "# Train-test split\n",
        "X_train, X_test, y_train, y_test = train_test_split(X, y, test_size=0.2, random_state=42)\n",
        "\n",
        "# Base estimators\n",
        "base_estimators = [\n",
        "    ('decision_tree', DecisionTreeClassifier(random_state=42)),\n",
        "    ('svm', SVC(probability=True, random_state=42))\n",
        "]\n",
        "\n",
        "# Final estimator\n",
        "final_estimator = LogisticRegression()\n",
        "\n",
        "# Create Stacking Classifier\n",
        "stack_model = StackingClassifier(\n",
        "    estimators=base_estimators,\n",
        "    final_estimator=final_estimator,\n",
        "    cv=5\n",
        ")\n",
        "\n",
        "# Fit the model\n",
        "stack_model.fit(X_train, y_train)\n",
        "\n",
        "# Predict and calculate accuracy\n",
        "y_pred = stack_model.predict(X_test)\n",
        "accuracy = accuracy_score(y_test, y_pred)\n",
        "\n",
        "# Output\n",
        "print(\"Accuracy of Stacking Classifier:\", round(accuracy * 100, 2), \"%\")"
      ],
      "metadata": {
        "colab": {
          "base_uri": "https://localhost:8080/"
        },
        "id": "PQz_R7_ZDyPX",
        "outputId": "90f9966e-3434-48fb-de7e-ae9dc8805e32"
      },
      "execution_count": null,
      "outputs": [
        {
          "output_type": "stream",
          "name": "stdout",
          "text": [
            "Accuracy of Stacking Classifier: 96.49 %\n"
          ]
        }
      ]
    },
    {
      "cell_type": "code",
      "source": [
        "#37. Train a Random Forest Classifier and print the top 5 most important features.\n",
        "\n",
        "from sklearn.ensemble import RandomForestClassifier\n",
        "from sklearn.datasets import load_breast_cancer\n",
        "from sklearn.model_selection import train_test_split\n",
        "import pandas as pd\n",
        "\n",
        "# Load data\n",
        "data = load_breast_cancer()\n",
        "X = pd.DataFrame(data.data, columns=data.feature_names)\n",
        "y = data.target\n",
        "\n",
        "# Train-test split\n",
        "X_train, X_test, y_train, y_test = train_test_split(X, y, test_size=0.2, random_state=42)\n",
        "\n",
        "# Train model\n",
        "rf = RandomForestClassifier(n_estimators=100, random_state=42)\n",
        "rf.fit(X_train, y_train)\n",
        "\n",
        "# Feature importance\n",
        "importances = rf.feature_importances_\n",
        "feat_importance = pd.Series(importances, index=X.columns)\n",
        "top_5 = feat_importance.sort_values(ascending=False).head(5)\n",
        "print(\"Top 5 important features:\\n\", top_5)"
      ],
      "metadata": {
        "id": "0M5YuPzIDynp",
        "colab": {
          "base_uri": "https://localhost:8080/"
        },
        "outputId": "88b33c98-a609-4863-c4bb-3d791b0d698d"
      },
      "execution_count": null,
      "outputs": [
        {
          "output_type": "stream",
          "name": "stdout",
          "text": [
            "Top 5 important features:\n",
            " worst area              0.153892\n",
            "worst concave points    0.144663\n",
            "mean concave points     0.106210\n",
            "worst radius            0.077987\n",
            "mean concavity          0.068001\n",
            "dtype: float64\n"
          ]
        }
      ]
    },
    {
      "cell_type": "code",
      "source": [
        "#38. Train a Bagging Classifier and evaluate performance using Precision, Recall, and F1-score.\n",
        "\n",
        "# Import necessary libraries\n",
        "from sklearn.ensemble import BaggingClassifier\n",
        "from sklearn.tree import DecisionTreeClassifier\n",
        "from sklearn.metrics import precision_score, recall_score, f1_score\n",
        "from sklearn.datasets import load_breast_cancer\n",
        "from sklearn.model_selection import train_test_split\n",
        "\n",
        "# Load dataset\n",
        "data = load_breast_cancer()\n",
        "X = data.data\n",
        "y = data.target\n",
        "\n",
        "# Split data\n",
        "X_train, X_test, y_train, y_test = train_test_split(X, y, test_size=0.2, random_state=42)\n",
        "\n",
        "# Train Bagging Classifier (updated keyword: estimator)\n",
        "bag = BaggingClassifier(estimator=DecisionTreeClassifier(), n_estimators=50, random_state=42)\n",
        "bag.fit(X_train, y_train)\n",
        "\n",
        "# Predictions\n",
        "y_pred = bag.predict(X_test)\n",
        "\n",
        "# Evaluation\n",
        "print(\"Precision:\", precision_score(y_test, y_pred))\n",
        "print(\"Recall:\", recall_score(y_test, y_pred))\n",
        "print(\"F1 Score:\", f1_score(y_test, y_pred))"
      ],
      "metadata": {
        "colab": {
          "base_uri": "https://localhost:8080/"
        },
        "id": "wPQQ6DE4M4cG",
        "outputId": "66a8f713-b32b-40db-d2b2-de3ba5a0bd3f"
      },
      "execution_count": null,
      "outputs": [
        {
          "output_type": "stream",
          "name": "stdout",
          "text": [
            "Precision: 0.9583333333333334\n",
            "Recall: 0.971830985915493\n",
            "F1 Score: 0.965034965034965\n"
          ]
        }
      ]
    },
    {
      "cell_type": "code",
      "source": [
        "#39. Train a Random Forest Classifier and analyze the effect of max_depth on accuracy.\n",
        "\n",
        "from sklearn.metrics import accuracy_score\n",
        "\n",
        "print(\"Max Depth vs Accuracy:\")\n",
        "for depth in [2, 4, 6, 8, 10, None]:\n",
        "    rf = RandomForestClassifier(n_estimators=100, max_depth=depth, random_state=42)\n",
        "    rf.fit(X_train, y_train)\n",
        "    y_pred = rf.predict(X_test)\n",
        "    acc = accuracy_score(y_test, y_pred)\n",
        "    print(f\"Max Depth: {depth}, Accuracy: {acc}\")"
      ],
      "metadata": {
        "id": "FEwE5-x2DsWH",
        "colab": {
          "base_uri": "https://localhost:8080/"
        },
        "outputId": "bbecf3f7-a69c-44c2-c46f-4d2a1af34300"
      },
      "execution_count": null,
      "outputs": [
        {
          "output_type": "stream",
          "name": "stdout",
          "text": [
            "Max Depth vs Accuracy:\n",
            "Max Depth: 2, Accuracy: 0.9649122807017544\n",
            "Max Depth: 4, Accuracy: 0.9649122807017544\n",
            "Max Depth: 6, Accuracy: 0.9649122807017544\n",
            "Max Depth: 8, Accuracy: 0.9649122807017544\n",
            "Max Depth: 10, Accuracy: 0.9649122807017544\n",
            "Max Depth: None, Accuracy: 0.9649122807017544\n"
          ]
        }
      ]
    },
    {
      "cell_type": "code",
      "source": [
        "#40. Train a Bagging Regressor using different base estimators (DecisionTree and KNeighbors) and compare performance.\n",
        "\n",
        "\n",
        "from sklearn.ensemble import BaggingRegressor\n",
        "from sklearn.neighbors import KNeighborsRegressor\n",
        "from sklearn.tree import DecisionTreeRegressor\n",
        "from sklearn.datasets import load_diabetes\n",
        "from sklearn.model_selection import train_test_split\n",
        "from sklearn.metrics import mean_squared_error\n",
        "\n",
        "# Load regression data\n",
        "reg_data = load_diabetes()\n",
        "Xr = reg_data.data\n",
        "yr = reg_data.target\n",
        "Xr_train, Xr_test, yr_train, yr_test = train_test_split(Xr, yr, test_size=0.2, random_state=42)\n",
        "\n",
        "# Decision Tree\n",
        "bag_dt = BaggingRegressor(estimator=DecisionTreeRegressor(), n_estimators=10, random_state=42)\n",
        "bag_dt.fit(Xr_train, yr_train)\n",
        "pred_dt = bag_dt.predict(Xr_test)\n",
        "mse_dt = mean_squared_error(yr_test, pred_dt)\n",
        "\n",
        "# KNeighbors\n",
        "bag_knn = BaggingRegressor(estimator=KNeighborsRegressor(), n_estimators=10, random_state=42)\n",
        "bag_knn.fit(Xr_train, yr_train)\n",
        "pred_knn = bag_knn.predict(Xr_test)\n",
        "mse_knn = mean_squared_error(yr_test, pred_knn)\n",
        "\n",
        "print(\"MSE - Decision Tree:\", mse_dt)\n",
        "print(\"MSE - KNeighbors:\", mse_knn)"
      ],
      "metadata": {
        "colab": {
          "base_uri": "https://localhost:8080/"
        },
        "id": "vDqrtPJhK__M",
        "outputId": "a233846c-57e1-4979-f668-ccb67cff4eb6"
      },
      "execution_count": null,
      "outputs": [
        {
          "output_type": "stream",
          "name": "stdout",
          "text": [
            "MSE - Decision Tree: 3256.961797752809\n",
            "MSE - KNeighbors: 2990.653649438202\n"
          ]
        }
      ]
    },
    {
      "cell_type": "code",
      "source": [
        "#42. Train a Bagging Classifier and evaluate its performance using cross-validation.\n",
        "\n",
        "from sklearn.ensemble import BaggingClassifier\n",
        "from sklearn.tree import DecisionTreeClassifier\n",
        "from sklearn.datasets import load_breast_cancer\n",
        "from sklearn.model_selection import cross_val_score\n",
        "\n",
        "# Load data\n",
        "data = load_breast_cancer()\n",
        "X, y = data.data, data.target\n",
        "\n",
        "# Model\n",
        "bag_clf = BaggingClassifier(estimator=DecisionTreeClassifier(), n_estimators=10, random_state=42)\n",
        "\n",
        "# Cross-validation\n",
        "scores = cross_val_score(bag_clf, X, y, cv=5)\n",
        "print(\"Cross-validation accuracy scores:\", scores)\n",
        "print(\"Mean Accuracy:\", scores.mean())"
      ],
      "metadata": {
        "colab": {
          "base_uri": "https://localhost:8080/"
        },
        "id": "OgbjFfSvPX35",
        "outputId": "87d1099e-0ab5-4c9e-b781-cc87eb2d67f8"
      },
      "execution_count": null,
      "outputs": [
        {
          "output_type": "stream",
          "name": "stdout",
          "text": [
            "Cross-validation accuracy scores: [0.92982456 0.93859649 0.97368421 0.93859649 0.97345133]\n",
            "Mean Accuracy: 0.9508306163639186\n"
          ]
        }
      ]
    },
    {
      "cell_type": "code",
      "source": [
        "#43. Train a Random Forest Classifier and plot the Precision-Recall curve.\n",
        "\n",
        "from sklearn.ensemble import RandomForestClassifier\n",
        "from sklearn.datasets import make_classification\n",
        "from sklearn.model_selection import train_test_split\n",
        "from sklearn.metrics import precision_recall_curve, average_precision_score\n",
        "import matplotlib.pyplot as plt\n",
        "\n",
        "# Synthetic data\n",
        "X, y = make_classification(n_samples=1000, n_classes=2, random_state=42)\n",
        "X_train, X_test, y_train, y_test = train_test_split(X, y, test_size=0.3, random_state=42)\n",
        "\n",
        "# Model\n",
        "rf_clf = RandomForestClassifier(n_estimators=100, random_state=42)\n",
        "rf_clf.fit(X_train, y_train)\n",
        "\n",
        "# Prediction probabilities\n",
        "y_scores = rf_clf.predict_proba(X_test)[:, 1]\n",
        "\n",
        "# Precision-Recall curve\n",
        "precision, recall, _ = precision_recall_curve(y_test, y_scores)\n",
        "avg_precision = average_precision_score(y_test, y_scores)\n",
        "\n",
        "plt.plot(recall, precision, label=f'Avg Precision = {avg_precision:.2f}')\n",
        "plt.xlabel(\"Recall\")\n",
        "plt.ylabel(\"Precision\")\n",
        "plt.title(\"Precision-Recall Curve\")\n",
        "plt.legend()\n",
        "plt.grid()\n",
        "plt.show()"
      ],
      "metadata": {
        "colab": {
          "base_uri": "https://localhost:8080/",
          "height": 261
        },
        "id": "UPjGTdX9PZ6g",
        "outputId": "4925aee5-3165-4d3f-c066-792abe8dc3fc"
      },
      "execution_count": null,
      "outputs": [
        {
          "output_type": "display_data",
          "data": {
            "text/plain": [
              "<Figure size 640x480 with 1 Axes>"
            ],
            "image/png": "[encoded data removed]"
          },
          "metadata": {}
        }
      ]
    },
    {
      "cell_type": "code",
      "source": [
        "#44. Train a Stacking Classifier with Random Forest and Logistic Regression and compare accuracy.\n",
        "\n",
        "\n",
        "from sklearn.ensemble import StackingClassifier\n",
        "from sklearn.linear_model import LogisticRegression\n",
        "from sklearn.ensemble import RandomForestClassifier\n",
        "from sklearn.svm import SVC\n",
        "from sklearn.datasets import load_breast_cancer\n",
        "from sklearn.model_selection import train_test_split\n",
        "from sklearn.metrics import accuracy_score\n",
        "\n",
        "# Data\n",
        "X, y = load_breast_cancer(return_X_y=True)\n",
        "X_train, X_test, y_train, y_test = train_test_split(X, y, test_size=0.3, random_state=42)\n",
        "\n",
        "# Stacking Classifier\n",
        "estimators = [\n",
        "    ('rf', RandomForestClassifier(n_estimators=10, random_state=42)),\n",
        "    ('svc', SVC(probability=True, random_state=42))\n",
        "]\n",
        "stack_clf = StackingClassifier(estimators=estimators, final_estimator=LogisticRegression())\n",
        "stack_clf.fit(X_train, y_train)\n",
        "\n",
        "# Accuracy\n",
        "y_pred = stack_clf.predict(X_test)\n",
        "print(\"Stacking Classifier Accuracy:\", accuracy_score(y_test, y_pred))"
      ],
      "metadata": {
        "colab": {
          "base_uri": "https://localhost:8080/"
        },
        "id": "RdNrz8M3PaSz",
        "outputId": "ccf3f264-1cff-4b86-cac6-56d08b203a0b"
      },
      "execution_count": null,
      "outputs": [
        {
          "output_type": "stream",
          "name": "stdout",
          "text": [
            "Stacking Classifier Accuracy: 0.9707602339181286\n"
          ]
        }
      ]
    },
    {
      "cell_type": "code",
      "source": [
        "#45. Train a Bagging Regressor with different levels of bootstrap samples and compare performance.\n",
        "\n",
        "from sklearn.ensemble import BaggingRegressor\n",
        "from sklearn.tree import DecisionTreeRegressor\n",
        "from sklearn.datasets import load_diabetes\n",
        "from sklearn.model_selection import train_test_split\n",
        "from sklearn.metrics import mean_squared_error\n",
        "\n",
        "# Data\n",
        "X, y = load_diabetes(return_X_y=True)\n",
        "X_train, X_test, y_train, y_test = train_test_split(X, y, test_size=0.2, random_state=42)\n",
        "\n",
        "# Compare different bootstrap sample sizes\n",
        "for max_samples in [0.5, 0.7, 1.0]:\n",
        "    model = BaggingRegressor(estimator=DecisionTreeRegressor(), n_estimators=10,\n",
        "                             max_samples=max_samples, random_state=42)\n",
        "    model.fit(X_train, y_train)\n",
        "    y_pred = model.predict(X_test)\n",
        "    mse = mean_squared_error(y_test, y_pred)\n",
        "    print(f\"Bootstrap sample {int(max_samples*100)}% - MSE: {mse:.2f}\")"
      ],
      "metadata": {
        "colab": {
          "base_uri": "https://localhost:8080/"
        },
        "id": "cHk9UBwvPakj",
        "outputId": "e2328414-da7a-49cb-f5c5-fecd5f527cc9"
      },
      "execution_count": null,
      "outputs": [
        {
          "output_type": "stream",
          "name": "stdout",
          "text": [
            "Bootstrap sample 50% - MSE: 3235.35\n",
            "Bootstrap sample 70% - MSE: 3248.80\n",
            "Bootstrap sample 100% - MSE: 3256.96\n"
          ]
        }
      ]
    }
  ]
}